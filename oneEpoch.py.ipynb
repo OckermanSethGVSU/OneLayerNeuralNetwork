{
 "cells": [
  {
   "cell_type": "code",
   "execution_count": 3,
   "metadata": {},
   "outputs": [
    {
     "name": "stdout",
     "output_type": "stream",
     "text": [
      "Hidden Layer 1: 0.8175744761936437\n",
      "Hidden Layer 2: 0.9525741268224331\n",
      "y = 0.7813904309473313\n"
     ]
    }
   ],
   "source": [
    "import numpy as np\n",
    "import math\n",
    "\n",
    "# give it the weight and inputs and it will calculate the results\n",
    "def feedInputsForward(inputs,weights):\n",
    "    outputArr = []\n",
    "    \n",
    "    # if there are multiple hidden layers, you need to have a set of weights for each input to HL connection\n",
    "    if(weights.ndim > 1):\n",
    "        for each in weights:\n",
    "            outputArr.append(gradiantDescentFormula(np.dot(each,inputs)))\n",
    "        return outputArr\n",
    "    \n",
    "    # if there is only one output/hidden layer, just do the dot product of the 1-d arrays\n",
    "    else:\n",
    "        outputArr.append(gradiantDescentFormula(np.dot(inputs,weights)))\n",
    "        return outputArr\n",
    "\n",
    "\n",
    "# gradiant descent is defined as 1 / (1 + e^(-x))\n",
    "# this formula does that though imperfectly\n",
    "def gradiantDescentFormula(x):\n",
    "    return (1/(1 + (math.e ** (-x)) ))\n",
    "\n",
    "\n",
    "# intital varaibles for back propigation later\n",
    "HL1 = 0\n",
    "HL2 = 0\n",
    "y = 0\n",
    "\n",
    "# all the starting weights for the input to hidden layer\n",
    "# start at H1-1 go to HL-n then do the bias\n",
    "bias = 1\n",
    "HLW = [[1,1,0.5],[1,-1,2]]\n",
    "numpyHLW = np.array(HLW)\n",
    "\n",
    "# set the inputs and bias\n",
    "inputs = [bias,0,1]\n",
    "numpyInputs = np.array(inputs)\n",
    "\n",
    "# set the inputs for the hidden to output layer\n",
    "numpyHlToOut = feedInputsForward(numpyInputs,numpyHLW)\n",
    "\n",
    "# record the results\n",
    "HL1 = numpyHlToOut[0]\n",
    "HL2 = numpyHlToOut[1]\n",
    "\n",
    "# put bias back in at the front\n",
    "numpyHlToOut.insert(0,bias)\n",
    "\n",
    "\n",
    "# all the weights for the hidden to output layer\n",
    "hlToOutW = [1,1.5,-1]\n",
    "numpyHlToOutW = np.array(hlToOutW)\n",
    "\n",
    "# get the results\n",
    "results = feedInputsForward(numpyHlToOut,numpyHlToOutW)\n",
    "\n",
    "# record the results\n",
    "y = results[0]\n",
    "\n",
    "\n",
    "# print the results\n",
    "print(\"Hidden Layer 1: %s\" % HL1)\n",
    "print(\"Hidden Layer 2: %s\" % HL2)\n",
    "print(\"y = %s\" % y)\n"
   ]
  }
 ],
 "metadata": {
  "kernelspec": {
   "display_name": "Python 3",
   "language": "python",
   "name": "python3"
  },
  "language_info": {
   "codemirror_mode": {
    "name": "ipython",
    "version": 3
   },
   "file_extension": ".py",
   "mimetype": "text/x-python",
   "name": "python",
   "nbconvert_exporter": "python",
   "pygments_lexer": "ipython3",
   "version": "3.8.5"
  }
 },
 "nbformat": 4,
 "nbformat_minor": 4
}
